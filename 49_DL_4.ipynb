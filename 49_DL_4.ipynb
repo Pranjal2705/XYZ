{
  "nbformat": 4,
  "nbformat_minor": 0,
  "metadata": {
    "colab": {
      "provenance": []
    },
    "kernelspec": {
      "name": "python3",
      "display_name": "Python 3"
    },
    "language_info": {
      "name": "python"
    }
  },
  "cells": [
    {
      "cell_type": "markdown",
      "source": [
        "Deep Learning Assignment No:4\n",
        "\n",
        "Title:Use Autoencoder to implement anomaly detection.\n",
        "\n",
        "Name:Pranit Dilip Menkar\n",
        "\n",
        "BEIT\n",
        "\n",
        "Roll no: 49"
      ],
      "metadata": {
        "id": "ip5AdLigkvsO"
      }
    },
    {
      "cell_type": "code",
      "execution_count": null,
      "metadata": {
        "id": "-pv7RBvRljnn"
      },
      "outputs": [],
      "source": [
        "import pandas as pd\n",
        "import numpy as np\n",
        "import tensorflow as tf\n",
        "import matplotlib.pyplot as plt\n",
        "import seaborn as sns\n",
        "from sklearn.model_selection import train_test_split\n",
        "from sklearn.preprocessing import StandardScaler\n",
        "from sklearn.metrics import confusion_matrix, recall_score, accuracy_score, precision_score\n",
        "RANDOM_SEED = 2021 \n",
        "TEST_PCT = 0.3\n",
        "LABELS = [\"Normal\",\"Fraud\"]"
      ]
    },
    {
      "cell_type": "code",
      "source": [
        "from google.colab import drive\n",
        "drive.mount('/content/drive')"
      ],
      "metadata": {
        "colab": {
          "base_uri": "https://localhost:8080/"
        },
        "id": "Z_i4A99YrGIt",
        "outputId": "e7c6ea62-396d-45db-8e74-670cd96ef2f2"
      },
      "execution_count": null,
      "outputs": [
        {
          "output_type": "stream",
          "name": "stdout",
          "text": [
            "Mounted at /content/drive\n"
          ]
        }
      ]
    },
    {
      "cell_type": "code",
      "source": [
        "dataset = pd.read_csv(\"creditcard.csv\")  \n",
        "\n",
        "\n"
      ],
      "metadata": {
        "id": "wiYbDVDDl2M6"
      },
      "execution_count": null,
      "outputs": []
    },
    {
      "cell_type": "code",
      "source": [
        "#check for any  nullvalues \n",
        "print(\"Any nulls in the dataset \",dataset.isnull().values.any() )\n",
        "print('-------')\n",
        "print(\"No. of unique labels \", len(dataset['Class'].unique()))\n",
        "print(\"Label values \",dataset.Class.unique())\n",
        "#0 is for normal credit card transaction\n",
        "#1 is for fraudulent credit card transaction\n",
        "print('-------')\n",
        "print(\"Break down of the Normal and Fraud Transactions\")\n",
        "print(pd.value_counts(dataset['Class'], sort = True) )\n"
      ],
      "metadata": {
        "colab": {
          "base_uri": "https://localhost:8080/"
        },
        "id": "CntCPbi1CViD",
        "outputId": "3a989bb8-04f1-43c6-ec62-453b19e1c3c3"
      },
      "execution_count": null,
      "outputs": [
        {
          "output_type": "stream",
          "name": "stdout",
          "text": [
            "Any nulls in the dataset  True\n",
            "-------\n",
            "No. of unique labels  3\n",
            "Label values  [ 0.  1. nan]\n",
            "-------\n",
            "Break down of the Normal and Fraud Transactions\n",
            "0.0    11906\n",
            "1.0       52\n",
            "Name: Class, dtype: int64\n"
          ]
        }
      ]
    },
    {
      "cell_type": "code",
      "source": [
        "#Visualizing the imbalanced dataset\n",
        "#plotting the number of normal and fraud transactions in the dataset.\n",
        "count_classes = pd.value_counts(dataset['Class'], sort = True)\n",
        "count_classes.plot(kind = 'bar', rot=0)\n",
        "plt.xticks(range(len(dataset['Class'].unique())), dataset.Class.unique())\n",
        "plt.title(\"Frequency by observation number\")\n",
        "plt.xlabel(\"Class\")\n",
        "plt.ylabel(\"Number of Observations\");"
      ],
      "metadata": {
        "colab": {
          "base_uri": "https://localhost:8080/",
          "height": 295
        },
        "id": "UWLiZeaT9qZ1",
        "outputId": "41262ba3-7c8d-434f-ea89-ba6cf4accec4"
      },
      "execution_count": null,
      "outputs": [
        {
          "output_type": "display_data",
          "data": {
            "text/plain": [
              "<Figure size 432x288 with 1 Axes>"
            ],
            "image/png": "[encoded data removed]"
          },
          "metadata": {
            "needs_background": "light"
          }
        }
      ]
    },
    {
      "cell_type": "code",
      "source": [
        "#The last column in the dataset is our target variable.\n",
        "raw_data = dataset.values\n",
        "# The last element contains if the transaction is normal which is represented by a 0 and if fraud then 1\n",
        "labels = raw_data[:, -1]\n",
        "# The other data points are the electrocadriogram data\n",
        "data = raw_data[:, 0:-1]\n",
        "train_data, test_data, train_labels, test_labels = train_test_split(\n",
        "    data, labels, test_size=0.2, random_state=2021\n",
        ")"
      ],
      "metadata": {
        "id": "EVvmxGwwAYlm"
      },
      "execution_count": null,
      "outputs": []
    },
    {
      "cell_type": "code",
      "source": [
        "#Normalize the data to have a value between 0 and 1\n",
        "min_val = tf.reduce_min(train_data)\n",
        "max_val = tf.reduce_max(train_data)\n",
        "train_data = (train_data - min_val) / (max_val - min_val)\n",
        "test_data = (test_data - min_val) / (max_val - min_val)\n",
        "train_data = tf.cast(train_data, tf.float32)\n",
        "test_data = tf.cast(test_data, tf.float32)"
      ],
      "metadata": {
        "id": "3ticUH7IAgb8"
      },
      "execution_count": null,
      "outputs": []
    },
    {
      "cell_type": "code",
      "source": [
        "# Use only normal transactions to train the Autoencoder.\n",
        "train_labels = train_labels.astype(bool)\n",
        "test_labels = test_labels.astype(bool)\n",
        "#creating normal and fraud datasets\n",
        "normal_train_data = train_data[~train_labels]\n",
        "normal_test_data = test_data[~test_labels]\n",
        "fraud_train_data = train_data[train_labels]\n",
        "fraud_test_data = test_data[test_labels]\n",
        "print(\" No. of records in Fraud Train Data=\",len(fraud_train_data))\n",
        "print(\" No. of records in Normal Train data=\",len(normal_train_data))\n",
        "print(\" No. of records in Fraud Test Data=\",len(fraud_test_data))\n",
        "print(\" No. of records in Normal Test data=\",len(normal_test_data))"
      ],
      "metadata": {
        "colab": {
          "base_uri": "https://localhost:8080/"
        },
        "id": "WjlQEkpRAxQN",
        "outputId": "40607332-53cf-427c-d107-59c08746e83a"
      },
      "execution_count": null,
      "outputs": [
        {
          "output_type": "stream",
          "name": "stdout",
          "text": [
            " No. of records in Fraud Train Data= 44\n",
            " No. of records in Normal Train data= 9523\n",
            " No. of records in Fraud Test Data= 9\n",
            " No. of records in Normal Test data= 2383\n"
          ]
        }
      ]
    },
    {
      "cell_type": "code",
      "source": [
        "#Set the training parameter values\n",
        "nb_epoch = 50\n",
        "batch_size = 64\n",
        "input_dim = normal_train_data.shape[1] #num of columns, 30\n",
        "encoding_dim = 14\n",
        "hidden_dim_1 = int(encoding_dim / 2) #\n",
        "hidden_dim_2=4  \n",
        "learning_rate = 1e-7\n",
        "\n"
      ],
      "metadata": {
        "id": "aPQBOh7gBEuE"
      },
      "execution_count": null,
      "outputs": []
    },
    {
      "cell_type": "code",
      "source": [
        "#Create the Autoencoder\n",
        "\n",
        "#input Layer\n",
        "input_layer = tf.keras.layers.Input(shape=(input_dim, ))\n",
        "#Encoder\n",
        "encoder = tf.keras.layers.Dense(encoding_dim, activation=\"tanh\",activity_regularizer=tf.keras.regularizers.l2(learning_rate))(input_layer)\n",
        "encoder=tf.keras.layers.Dropout(0.2)(encoder)\n",
        "encoder = tf.keras.layers.Dense(hidden_dim_1, activation='relu')(encoder)\n",
        "encoder = tf.keras.layers.Dense(hidden_dim_2, activation=tf.nn.leaky_relu)(encoder)\n",
        "# Decoder\n",
        "decoder = tf.keras.layers.Dense(hidden_dim_1, activation='relu')(encoder)\n",
        "decoder=tf.keras.layers.Dropout(0.2)(decoder)\n",
        "decoder = tf.keras.layers.Dense(encoding_dim, activation='relu')(decoder)\n",
        "decoder = tf.keras.layers.Dense(input_dim, activation='tanh')(decoder)\n",
        "#Autoencoder\n",
        "autoencoder = tf.keras.Model(inputs=input_layer, outputs=decoder)\n",
        "autoencoder.summary()"
      ],
      "metadata": {
        "colab": {
          "base_uri": "https://localhost:8080/"
        },
        "id": "p9THtOkfBPmM",
        "outputId": "fbd1ed66-79a1-4357-eb33-8fc91415c679"
      },
      "execution_count": null,
      "outputs": [
        {
          "output_type": "stream",
          "name": "stdout",
          "text": [
            "Model: \"model\"\n",
            "_________________________________________________________________\n",
            " Layer (type)                Output Shape              Param #   \n",
            "=================================================================\n",
            " input_1 (InputLayer)        [(None, 30)]              0         \n",
            "                                                                 \n",
            " dense (Dense)               (None, 14)                434       \n",
            "                                                                 \n",
            " dropout (Dropout)           (None, 14)                0         \n",
            "                                                                 \n",
            " dense_1 (Dense)             (None, 7)                 105       \n",
            "                                                                 \n",
            " dense_2 (Dense)             (None, 4)                 32        \n",
            "                                                                 \n",
            " dense_3 (Dense)             (None, 7)                 35        \n",
            "                                                                 \n",
            " dropout_1 (Dropout)         (None, 7)                 0         \n",
            "                                                                 \n",
            " dense_4 (Dense)             (None, 14)                112       \n",
            "                                                                 \n",
            " dense_5 (Dense)             (None, 30)                450       \n",
            "                                                                 \n",
            "=================================================================\n",
            "Total params: 1,168\n",
            "Trainable params: 1,168\n",
            "Non-trainable params: 0\n",
            "_________________________________________________________________\n"
          ]
        }
      ]
    },
    {
      "cell_type": "code",
      "source": [
        "# Define the callbacks for checkpoints and early stopping\n",
        "\n",
        "cp = tf.keras.callbacks.ModelCheckpoint(filepath=\"autoencoder_fraud.h5\",\n",
        "                               mode='min', monitor='val_loss', verbose=2, save_best_only=True)\n",
        "\n",
        "# define our early stopping\n",
        "early_stop = tf.keras.callbacks.EarlyStopping(\n",
        "    monitor='val_loss',\n",
        "    min_delta=0.0001,\n",
        "    patience=10,\n",
        "    verbose=1, \n",
        "    mode='min',\n",
        "    restore_best_weights=True)\n"
      ],
      "metadata": {
        "id": "rAcz2_opCMoi"
      },
      "execution_count": null,
      "outputs": []
    },
    {
      "cell_type": "code",
      "source": [
        "autoencoder.compile(metrics=['accuracy'],\n",
        "                    loss='mean_squared_error',\n",
        "                    optimizer='adam')"
      ],
      "metadata": {
        "id": "u5m-jKYmBv5C"
      },
      "execution_count": null,
      "outputs": []
    },
    {
      "cell_type": "code",
      "source": [
        "history = autoencoder.fit(normal_train_data, normal_train_data,\n",
        "                    epochs=nb_epoch,\n",
        "                    batch_size=batch_size,\n",
        "                    shuffle=True,\n",
        "                    validation_data=(test_data, test_data),\n",
        "                    verbose=1,\n",
        "                    callbacks=[cp, early_stop]\n",
        "                    ).history"
      ],
      "metadata": {
        "colab": {
          "base_uri": "https://localhost:8080/"
        },
        "id": "kveEzKXAB3ca",
        "outputId": "62d593ac-e8a3-448d-e8a2-2a6d00c4be17"
      },
      "execution_count": null,
      "outputs": [
        {
          "output_type": "stream",
          "name": "stdout",
          "text": [
            "Epoch 1/50\n",
            "149/149 [==============================] - ETA: 0s - loss: 0.0038 - accuracy: 0.9392\n",
            "Epoch 1: val_loss did not improve from inf\n",
            "149/149 [==============================] - 3s 13ms/step - loss: 0.0038 - accuracy: 0.9392 - val_loss: nan - val_accuracy: 0.9929\n",
            "Epoch 2/50\n",
            "143/149 [===========================>..] - ETA: 0s - loss: 7.3412e-04 - accuracy: 0.9909\n",
            "Epoch 2: val_loss did not improve from inf\n",
            "149/149 [==============================] - 1s 9ms/step - loss: 7.2138e-04 - accuracy: 0.9911 - val_loss: nan - val_accuracy: 0.9929\n",
            "Epoch 3/50\n",
            "149/149 [==============================] - ETA: 0s - loss: 3.6164e-04 - accuracy: 0.9911\n",
            "Epoch 3: val_loss did not improve from inf\n",
            "149/149 [==============================] - 1s 8ms/step - loss: 3.6164e-04 - accuracy: 0.9911 - val_loss: nan - val_accuracy: 0.9929\n",
            "Epoch 4/50\n",
            "136/149 [==========================>...] - ETA: 0s - loss: 2.3946e-04 - accuracy: 0.9909\n",
            "Epoch 4: val_loss did not improve from inf\n",
            "149/149 [==============================] - 1s 5ms/step - loss: 2.3696e-04 - accuracy: 0.9911 - val_loss: nan - val_accuracy: 0.9929\n",
            "Epoch 5/50\n",
            "133/149 [=========================>....] - ETA: 0s - loss: 1.8721e-04 - accuracy: 0.9910\n",
            "Epoch 5: val_loss did not improve from inf\n",
            "149/149 [==============================] - 0s 3ms/step - loss: 1.8278e-04 - accuracy: 0.9911 - val_loss: nan - val_accuracy: 0.9929\n",
            "Epoch 6/50\n",
            "130/149 [=========================>....] - ETA: 0s - loss: 1.5247e-04 - accuracy: 0.9918\n",
            "Epoch 6: val_loss did not improve from inf\n",
            "149/149 [==============================] - 0s 3ms/step - loss: 1.5105e-04 - accuracy: 0.9911 - val_loss: nan - val_accuracy: 0.9929\n",
            "Epoch 7/50\n",
            "147/149 [============================>.] - ETA: 0s - loss: 1.3936e-04 - accuracy: 0.9910\n",
            "Epoch 7: val_loss did not improve from inf\n",
            "149/149 [==============================] - 0s 3ms/step - loss: 1.3918e-04 - accuracy: 0.9911 - val_loss: nan - val_accuracy: 0.9929\n",
            "Epoch 8/50\n",
            "136/149 [==========================>...] - ETA: 0s - loss: 1.1945e-04 - accuracy: 0.9912\n",
            "Epoch 8: val_loss did not improve from inf\n",
            "149/149 [==============================] - 0s 3ms/step - loss: 1.1881e-04 - accuracy: 0.9911 - val_loss: nan - val_accuracy: 0.9929\n",
            "Epoch 9/50\n",
            "147/149 [============================>.] - ETA: 0s - loss: 1.0691e-04 - accuracy: 0.9911\n",
            "Epoch 9: val_loss did not improve from inf\n",
            "149/149 [==============================] - 1s 4ms/step - loss: 1.0663e-04 - accuracy: 0.9911 - val_loss: nan - val_accuracy: 0.9929\n",
            "Epoch 10/50\n",
            "141/149 [===========================>..] - ETA: 0s - loss: 1.0749e-04 - accuracy: 0.9910\n",
            "Epoch 10: val_loss did not improve from inf\n",
            "Restoring model weights from the end of the best epoch: 1.\n",
            "149/149 [==============================] - 0s 3ms/step - loss: 1.0664e-04 - accuracy: 0.9911 - val_loss: nan - val_accuracy: 0.9929\n",
            "Epoch 10: early stopping\n"
          ]
        }
      ]
    },
    {
      "cell_type": "code",
      "source": [
        "# Detect Anomalies on test data\n",
        "test_x_predictions = autoencoder.predict(test_data)\n",
        "mse = np.mean(np.power(test_data - test_x_predictions, 2), axis=1)\n",
        "error_df = pd.DataFrame({'Reconstruction_error': mse,\n",
        "                        'True_class': test_labels})"
      ],
      "metadata": {
        "colab": {
          "base_uri": "https://localhost:8080/"
        },
        "id": "m3tTeLO1DfTv",
        "outputId": "e24627b0-fdc5-4d5e-b060-374588439782"
      },
      "execution_count": null,
      "outputs": [
        {
          "output_type": "stream",
          "name": "stdout",
          "text": [
            "75/75 [==============================] - 0s 2ms/step\n"
          ]
        }
      ]
    },
    {
      "cell_type": "code",
      "source": [
        "threshold_fixed =52\n",
        "pred_y = [1 if e > threshold_fixed else 0 for e in error_df.Reconstruction_error.values]\n",
        "error_df['pred'] =pred_y\n",
        "conf_matrix = confusion_matrix(error_df.True_class, pred_y)\n",
        "plt.figure(figsize=(4, 4))\n",
        "sns.heatmap(conf_matrix, xticklabels=LABELS, yticklabels=LABELS, annot=True, fmt=\"d\");\n",
        "plt.title(\"Confusion matrix\")\n",
        "plt.ylabel('True class')\n",
        "plt.xlabel('Predicted class')\n",
        "plt.show()\n"
      ],
      "metadata": {
        "colab": {
          "base_uri": "https://localhost:8080/",
          "height": 295
        },
        "id": "srKYZksiE0xG",
        "outputId": "a30b87e0-b840-47da-e764-0db00dcc0413"
      },
      "execution_count": null,
      "outputs": [
        {
          "output_type": "display_data",
          "data": {
            "text/plain": [
              "<Figure size 288x288 with 2 Axes>"
            ],
            "image/png": "[encoded data removed]"
          },
          "metadata": {
            "needs_background": "light"
          }
        }
      ]
    },
    {
      "cell_type": "code",
      "source": [],
      "metadata": {
        "id": "wc0YhyAClxP5"
      },
      "execution_count": null,
      "outputs": []
    }
  ]
}