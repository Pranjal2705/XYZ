{
  "nbformat": 4,
  "nbformat_minor": 0,
  "metadata": {
    "colab": {
      "provenance": []
    },
    "kernelspec": {
      "name": "python3",
      "display_name": "Python 3"
    },
    "language_info": {
      "name": "python"
    }
  },
  "cells": [
    {
      "cell_type": "markdown",
      "source": [
        "Deep Learning Assignment No:2\n",
        "\n",
        "Title:Implementing Feedforward neural network with Keras and Tensorflow\n",
        "\n",
        "Name:Pranit Dilip Menkar\n",
        "\n",
        "BEIT\n",
        "\n",
        "Roll no: 49"
      ],
      "metadata": {
        "id": "ygeYk2E9bCpe"
      }
    },
    {
      "cell_type": "code",
      "source": [],
      "metadata": {
        "id": "zxI78VLkdf1k"
      },
      "execution_count": null,
      "outputs": []
    },
    {
      "cell_type": "code",
      "source": [
        "from sklearn.preprocessing import LabelBinarizer\n",
        "from sklearn.metrics import classification_report\n",
        "from tensorflow.keras.models import Sequential\n",
        "from tensorflow.keras.layers import Dense\n",
        "from tensorflow.keras.optimizers import SGD\n",
        "from tensorflow.keras.datasets import mnist\n",
        "from tensorflow.keras import backend as K\n",
        "import matplotlib.pyplot as plt\n",
        "import numpy as np\n",
        "import argparse as ap\n"
      ],
      "metadata": {
        "id": "nkP5-TwWbGE-"
      },
      "execution_count": null,
      "outputs": []
    },
    {
      "cell_type": "code",
      "source": [
        "print(\"[INFO] accessing MNIST...\")\n",
        "((trainX, trainY), (testX, testY)) = mnist.load_data()"
      ],
      "metadata": {
        "colab": {
          "base_uri": "https://localhost:8080/"
        },
        "id": "B2wu1d_jbI2c",
        "outputId": "3a023a71-9716-427b-cf04-50a4fb2850e2"
      },
      "execution_count": null,
      "outputs": [
        {
          "output_type": "stream",
          "name": "stdout",
          "text": [
            "[INFO] accessing MNIST...\n",
            "Downloading data from https://storage.googleapis.com/tensorflow/tf-keras-datasets/mnist.npz\n",
            "11490434/11490434 [==============================] - 0s 0us/step\n"
          ]
        }
      ]
    },
    {
      "cell_type": "code",
      "source": [
        "trainX = trainX.reshape((trainX.shape[0], 28 * 28 * 1))\n",
        "testX = testX.reshape((testX.shape[0], 28 * 28 * 1))"
      ],
      "metadata": {
        "id": "qgb5K0VzbKxk"
      },
      "execution_count": null,
      "outputs": []
    },
    {
      "cell_type": "code",
      "source": [
        "trainX = trainX.astype(\"float32\") / 255.0\n",
        "testX = testX.astype(\"float32\") / 255.0"
      ],
      "metadata": {
        "id": "bfFPm7M4bNSZ"
      },
      "execution_count": null,
      "outputs": []
    },
    {
      "cell_type": "code",
      "source": [
        "lb = LabelBinarizer()\n",
        "trainY = lb.fit_transform(trainY)\n",
        "testY = lb.transform(testY)"
      ],
      "metadata": {
        "id": "d49n8MFxbOmy"
      },
      "execution_count": null,
      "outputs": []
    },
    {
      "cell_type": "code",
      "source": [
        "model = Sequential()\n",
        "model.add(Dense(256, input_shape=(784,), activation=\"sigmoid\"))\n",
        "model.add(Dense(128, activation=\"sigmoid\"))\n",
        "model.add(Dense(10, activation=\"softmax\"))"
      ],
      "metadata": {
        "id": "78UUKqDDbQJ-"
      },
      "execution_count": null,
      "outputs": []
    },
    {
      "cell_type": "code",
      "source": [
        "print(\"[INFO] training network...\")\n",
        "sgd = SGD(0.01)\n",
        "model.compile(loss=\"categorical_crossentropy\", optimizer=sgd,\n",
        "\tmetrics=[\"accuracy\"])\n",
        "H = model.fit(trainX, trainY, validation_data=(testX, testY),\n",
        "\tepochs=30, batch_size=128)"
      ],
      "metadata": {
        "colab": {
          "base_uri": "https://localhost:8080/"
        },
        "id": "TQ96YWF_bSCq",
        "outputId": "36719adc-4a96-4cbe-e1e9-67f9f54f0de2"
      },
      "execution_count": null,
      "outputs": [
        {
          "output_type": "stream",
          "name": "stdout",
          "text": [
            "[INFO] training network...\n",
            "Epoch 1/30\n",
            "469/469 [==============================] - 4s 8ms/step - loss: 2.2853 - accuracy: 0.1891 - val_loss: 2.2428 - val_accuracy: 0.2862\n",
            "Epoch 2/30\n",
            "469/469 [==============================] - 3s 7ms/step - loss: 2.2073 - accuracy: 0.4050 - val_loss: 2.1639 - val_accuracy: 0.3989\n",
            "Epoch 3/30\n",
            "469/469 [==============================] - 3s 7ms/step - loss: 2.1146 - accuracy: 0.5338 - val_loss: 2.0511 - val_accuracy: 0.5430\n",
            "Epoch 4/30\n",
            "469/469 [==============================] - 3s 7ms/step - loss: 1.9803 - accuracy: 0.5965 - val_loss: 1.8871 - val_accuracy: 0.6196\n",
            "Epoch 5/30\n",
            "469/469 [==============================] - 3s 7ms/step - loss: 1.7940 - accuracy: 0.6371 - val_loss: 1.6754 - val_accuracy: 0.6695\n",
            "Epoch 6/30\n",
            "469/469 [==============================] - 4s 8ms/step - loss: 1.5750 - accuracy: 0.6759 - val_loss: 1.4509 - val_accuracy: 0.6994\n",
            "Epoch 7/30\n",
            "469/469 [==============================] - 5s 10ms/step - loss: 1.3637 - accuracy: 0.7108 - val_loss: 1.2545 - val_accuracy: 0.7314\n",
            "Epoch 8/30\n",
            "469/469 [==============================] - 3s 7ms/step - loss: 1.1871 - accuracy: 0.7398 - val_loss: 1.0970 - val_accuracy: 0.7593\n",
            "Epoch 9/30\n",
            "469/469 [==============================] - 3s 7ms/step - loss: 1.0490 - accuracy: 0.7647 - val_loss: 0.9761 - val_accuracy: 0.7812\n",
            "Epoch 10/30\n",
            "469/469 [==============================] - 3s 7ms/step - loss: 0.9416 - accuracy: 0.7848 - val_loss: 0.8805 - val_accuracy: 0.7981\n",
            "Epoch 11/30\n",
            "469/469 [==============================] - 3s 7ms/step - loss: 0.8560 - accuracy: 0.7990 - val_loss: 0.8037 - val_accuracy: 0.8067\n",
            "Epoch 12/30\n",
            "469/469 [==============================] - 3s 7ms/step - loss: 0.7866 - accuracy: 0.8116 - val_loss: 0.7405 - val_accuracy: 0.8259\n",
            "Epoch 13/30\n",
            "469/469 [==============================] - 3s 7ms/step - loss: 0.7292 - accuracy: 0.8224 - val_loss: 0.6878 - val_accuracy: 0.8321\n",
            "Epoch 14/30\n",
            "469/469 [==============================] - 3s 7ms/step - loss: 0.6815 - accuracy: 0.8307 - val_loss: 0.6440 - val_accuracy: 0.8398\n",
            "Epoch 15/30\n",
            "469/469 [==============================] - 3s 7ms/step - loss: 0.6415 - accuracy: 0.8382 - val_loss: 0.6078 - val_accuracy: 0.8476\n",
            "Epoch 16/30\n",
            "469/469 [==============================] - 3s 7ms/step - loss: 0.6078 - accuracy: 0.8450 - val_loss: 0.5770 - val_accuracy: 0.8533\n",
            "Epoch 17/30\n",
            "469/469 [==============================] - 3s 7ms/step - loss: 0.5791 - accuracy: 0.8513 - val_loss: 0.5496 - val_accuracy: 0.8575\n",
            "Epoch 18/30\n",
            "469/469 [==============================] - 3s 7ms/step - loss: 0.5543 - accuracy: 0.8564 - val_loss: 0.5273 - val_accuracy: 0.8613\n",
            "Epoch 19/30\n",
            "469/469 [==============================] - 3s 7ms/step - loss: 0.5331 - accuracy: 0.8602 - val_loss: 0.5065 - val_accuracy: 0.8671\n",
            "Epoch 20/30\n",
            "469/469 [==============================] - 3s 7ms/step - loss: 0.5141 - accuracy: 0.8644 - val_loss: 0.4890 - val_accuracy: 0.8711\n",
            "Epoch 21/30\n",
            "469/469 [==============================] - 3s 7ms/step - loss: 0.4976 - accuracy: 0.8677 - val_loss: 0.4734 - val_accuracy: 0.8755\n",
            "Epoch 22/30\n",
            "469/469 [==============================] - 3s 7ms/step - loss: 0.4828 - accuracy: 0.8713 - val_loss: 0.4593 - val_accuracy: 0.8768\n",
            "Epoch 23/30\n",
            "469/469 [==============================] - 3s 7ms/step - loss: 0.4696 - accuracy: 0.8740 - val_loss: 0.4470 - val_accuracy: 0.8806\n",
            "Epoch 24/30\n",
            "469/469 [==============================] - 3s 7ms/step - loss: 0.4577 - accuracy: 0.8769 - val_loss: 0.4360 - val_accuracy: 0.8828\n",
            "Epoch 25/30\n",
            "469/469 [==============================] - 4s 9ms/step - loss: 0.4468 - accuracy: 0.8795 - val_loss: 0.4260 - val_accuracy: 0.8855\n",
            "Epoch 26/30\n",
            "469/469 [==============================] - 3s 7ms/step - loss: 0.4371 - accuracy: 0.8821 - val_loss: 0.4161 - val_accuracy: 0.8880\n",
            "Epoch 27/30\n",
            "469/469 [==============================] - 3s 7ms/step - loss: 0.4281 - accuracy: 0.8844 - val_loss: 0.4079 - val_accuracy: 0.8889\n",
            "Epoch 28/30\n",
            "469/469 [==============================] - 3s 7ms/step - loss: 0.4199 - accuracy: 0.8862 - val_loss: 0.4009 - val_accuracy: 0.8913\n",
            "Epoch 29/30\n",
            "469/469 [==============================] - 3s 7ms/step - loss: 0.4124 - accuracy: 0.8877 - val_loss: 0.3937 - val_accuracy: 0.8921\n",
            "Epoch 30/30\n",
            "469/469 [==============================] - 3s 7ms/step - loss: 0.4055 - accuracy: 0.8893 - val_loss: 0.3867 - val_accuracy: 0.8942\n"
          ]
        }
      ]
    },
    {
      "cell_type": "code",
      "source": [
        "print(\"[INFO] evaluating network...\")\n",
        "predictions = model.predict(testX, batch_size=128)\n",
        "print(classification_report(testY.argmax(axis=1),\n",
        "\tpredictions.argmax(axis=1),\n",
        "\ttarget_names=[str(x) for x in lb.classes_]))"
      ],
      "metadata": {
        "colab": {
          "base_uri": "https://localhost:8080/"
        },
        "id": "MXHU9cXzbXmw",
        "outputId": "7eb01392-e1de-4e73-d0b5-156eb9bccc29"
      },
      "execution_count": null,
      "outputs": [
        {
          "output_type": "stream",
          "name": "stdout",
          "text": [
            "[INFO] evaluating network...\n",
            "79/79 [==============================] - 1s 5ms/step\n",
            "              precision    recall  f1-score   support\n",
            "\n",
            "           0       0.92      0.98      0.95       980\n",
            "           1       0.94      0.97      0.96      1135\n",
            "           2       0.91      0.86      0.88      1032\n",
            "           3       0.88      0.89      0.89      1010\n",
            "           4       0.87      0.91      0.89       982\n",
            "           5       0.85      0.81      0.83       892\n",
            "           6       0.91      0.92      0.91       958\n",
            "           7       0.91      0.89      0.90      1028\n",
            "           8       0.86      0.84      0.85       974\n",
            "           9       0.87      0.85      0.86      1009\n",
            "\n",
            "    accuracy                           0.89     10000\n",
            "   macro avg       0.89      0.89      0.89     10000\n",
            "weighted avg       0.89      0.89      0.89     10000\n",
            "\n"
          ]
        }
      ]
    },
    {
      "cell_type": "code",
      "source": [
        "plt.style.use(\"ggplot\")\n",
        "plt.figure()\n",
        "plt.plot(np.arange(0, 30), H.history[\"loss\"], label=\"train_loss\")\n",
        "plt.plot(np.arange(0, 30), H.history[\"val_loss\"], label=\"val_loss\")\n",
        "plt.plot(np.arange(0, 30), H.history[\"accuracy\"], label=\"train_acc\")\n",
        "plt.plot(np.arange(0, 30), H.history[\"val_accuracy\"], label=\"val_acc\")\n",
        "plt.title(\"Training Loss and Accuracy\")\n",
        "plt.xlabel(\"Epoch #\")\n",
        "plt.ylabel(\"Loss/Accuracy\")\n",
        "plt.legend()\n"
      ],
      "metadata": {
        "colab": {
          "base_uri": "https://localhost:8080/",
          "height": 316
        },
        "id": "3vu_jedbbw2e",
        "outputId": "bdbbc3ac-c409-40f1-f684-ef8f3a230077"
      },
      "execution_count": null,
      "outputs": [
        {
          "output_type": "execute_result",
          "data": {
            "text/plain": [
              "<matplotlib.legend.Legend at 0x7fabbfe114d0>"
            ]
          },
          "metadata": {},
          "execution_count": 11
        },
        {
          "output_type": "display_data",
          "data": {
            "text/plain": [
              "<Figure size 432x288 with 1 Axes>"
            ],
            "image/png": "[encoded data removed]"
          },
          "metadata": {}
        }
      ]
    },
    {
      "cell_type": "code",
      "source": [],
      "metadata": {
        "id": "lD29aPX6b0Be"
      },
      "execution_count": null,
      "outputs": []
    }
  ]
}